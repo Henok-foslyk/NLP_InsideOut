{
 "cells": [
  {
   "cell_type": "code",
   "execution_count": 3,
   "metadata": {},
   "outputs": [],
   "source": [
    "import pandas as pd\n",
    "\n",
    "from sklearn.feature_extraction.text import CountVectorizer\n",
    "from sklearn.metrics import recall_score, precision_score, f1_score\n",
    "from sklearn.model_selection import train_test_split\n",
    "\n",
    "import torch \n",
    "from torch import nn\n",
    "from torch import optim"
   ]
  },
  {
   "cell_type": "code",
   "execution_count": 4,
   "metadata": {},
   "outputs": [],
   "source": [
    "emotions = ['Anger', 'Fear', 'Joy', 'Sadness', 'Surprise']\n",
    "\n",
    "# Read your data (replace with your actual dataset)\n",
    "train = pd.read_csv('eng_train.csv')\n",
    "\n",
    "# Split the dataset into training and validation sets\n",
    "train, val = train_test_split(train, test_size=0.05, random_state=42)"
   ]
  },
  {
   "cell_type": "code",
   "execution_count": 6,
   "metadata": {},
   "outputs": [],
   "source": [
    "vectorizer = CountVectorizer(ngram_range=(1,2))\n",
    "X_train = vectorizer.fit_transform(train['text'].str.lower()).toarray()\n",
    "X_val = vectorizer.transform(val['text'].str.lower()).toarray()\n",
    "\n",
    "y_train = train[emotions].values\n",
    "y_val = val[emotions].values\n",
    "\n",
    "X_train_t = torch.Tensor(X_train)\n",
    "y_train_t = torch.Tensor(y_train)\n",
    "\n",
    "X_val_t = torch.Tensor(X_val)\n",
    "y_val_t = torch.Tensor(y_val)"
   ]
  },
  {
   "cell_type": "code",
   "execution_count": 7,
   "metadata": {},
   "outputs": [
    {
     "name": "stdout",
     "output_type": "stream",
     "text": [
      "Shape of X: (2629, 27998)\n",
      "Shape of y: (2629, 5)\n",
      "Number of positives per emotion class:\n",
      " - Anger: 319 (12%)\n",
      " - Fear: 1531 (58%)\n",
      " - Joy: 645 (25%)\n",
      " - Sadness: 832 (32%)\n",
      " - Surprise: 795 (30%)\n"
     ]
    }
   ],
   "source": [
    "print(f'Shape of X: {X_train.shape}')\n",
    "print(f'Shape of y: {y_train.shape}')\n",
    "print(f'Number of positives per emotion class:')\n",
    "_ = [print(f' - {e}: {v} ({round(100*v/len(y_train))}%)') for e,v in zip(emotions, y_train.sum(axis=0))]"
   ]
  },
  {
   "cell_type": "code",
   "execution_count": 8,
   "metadata": {},
   "outputs": [],
   "source": [
    "def get_predictions(X_val, model, threshold=0.5):\n",
    "    sig = nn.Sigmoid() \n",
    "    yhat = sig(model(X_val)).detach().numpy()\n",
    "    y_pred = yhat > threshold\n",
    "    \n",
    "    return y_pred\n",
    "\n",
    "def evaluate(y_val, y_pred):\n",
    "    for average in ['micro', 'macro']:\n",
    "        recall = recall_score(y_val, y_pred, average=average, zero_division=0)\n",
    "        precision = precision_score(y_val, y_pred, average=average, zero_division=0)\n",
    "        f1 = f1_score(y_val, y_pred, average=average, zero_division=0)\n",
    "    \n",
    "        print(f'{average.upper()} recall: {round(recall, 4)}, precision: {round(precision, 4)}, f1: {round(f1, 4)}')\n",
    "\n",
    "def evaluate_per_class(y_val, y_pred):\n",
    "    for i, emotion in enumerate(emotions):\n",
    "        print(f'*** {emotion} ***')\n",
    "    \n",
    "        recall = recall_score(y_val[:,i], y_pred[:,i], zero_division=0)\n",
    "        precision = precision_score(y_val[:,i], y_pred[:,i], zero_division=0)\n",
    "        f1 = f1_score(y_val[:,i], y_pred[:,i], zero_division=0)\n",
    "        \n",
    "        print(f'recall: {round(recall, 4)}, precision: {round(precision, 4)}, f1: {round(f1, 4)}\\n')"
   ]
  },
  {
   "cell_type": "code",
   "execution_count": 9,
   "metadata": {},
   "outputs": [],
   "source": [
    "weights = y_train.sum(axis=0)/y_train.sum()\n",
    "weights = max(weights)/weights"
   ]
  },
  {
   "cell_type": "code",
   "execution_count": 18,
   "metadata": {},
   "outputs": [
    {
     "name": "stdout",
     "output_type": "stream",
     "text": [
      "Early stopping.\n",
      "MICRO recall: 0.7653, precision: 0.4766, f1: 0.5874\n",
      "MACRO recall: 0.7125, precision: 0.4315, f1: 0.5305\n",
      "\n",
      "PER CLASS BREAKDOWN\n",
      "\n",
      "*** Anger ***\n",
      "recall: 0.5, precision: 0.1707, f1: 0.2545\n",
      "\n",
      "*** Fear ***\n",
      "recall: 0.8375, precision: 0.6381, f1: 0.7243\n",
      "\n",
      "*** Joy ***\n",
      "recall: 0.6897, precision: 0.3448, f1: 0.4598\n",
      "\n",
      "*** Sadness ***\n",
      "recall: 0.7174, precision: 0.4583, f1: 0.5593\n",
      "\n",
      "*** Surprise ***\n",
      "recall: 0.8182, precision: 0.5455, f1: 0.6545\n",
      "\n"
     ]
    }
   ],
   "source": [
    "model = nn.Sequential(\n",
    "    nn.Linear(X_train.shape[1], 128),\n",
    "    nn.ReLU(),\n",
    "    nn.Dropout(0.3),\n",
    "    nn.Linear(128, 64),\n",
    "    nn.BatchNorm1d(64),\n",
    "    nn.ReLU(),\n",
    "    nn.Dropout(0.3),\n",
    "    nn.Linear(64, y_train.shape[1])\n",
    ")\n",
    "\n",
    "\n",
    "criterion = nn.BCEWithLogitsLoss(pos_weight=torch.Tensor(weights))\n",
    "optimizer = optim.Adam(model.parameters(), lr=1e-3, weight_decay=1e-2)\n",
    "scheduler = torch.optim.lr_scheduler.StepLR(optimizer, step_size=100, gamma=0.1)\n",
    "\n",
    "best_val_loss = float('inf')\n",
    "patience = 10\n",
    "patience_counter = 0\n",
    "\n",
    "for epoch in range(1000):\n",
    "    optimizer.zero_grad()\n",
    "    output = model(X_train_t)\n",
    "    loss = criterion(output, y_train_t)\n",
    "    loss.backward()\n",
    "    optimizer.step()\n",
    "    scheduler.step()\n",
    "    \n",
    "    val_loss = criterion(model(X_val_t), y_val_t)\n",
    "    if val_loss < best_val_loss:\n",
    "        best_val_loss = val_loss\n",
    "        patience_counter = 0\n",
    "    else:\n",
    "        patience_counter += 1\n",
    "        if patience_counter >= patience:\n",
    "            print(\"Early stopping.\")\n",
    "            break\n",
    "\n",
    "# maybe optimize threshold\n",
    "y_pred = get_predictions(X_val_t, model, 0.37)\n",
    "evaluate(y_val, y_pred)\n",
    "\n",
    "\n",
    "print('\\nPER CLASS BREAKDOWN\\n')\n",
    "evaluate_per_class(y_val, y_pred)"
   ]
  }
 ],
 "metadata": {
  "kernelspec": {
   "display_name": "cs375",
   "language": "python",
   "name": "python3"
  },
  "language_info": {
   "codemirror_mode": {
    "name": "ipython",
    "version": 3
   },
   "file_extension": ".py",
   "mimetype": "text/x-python",
   "name": "python",
   "nbconvert_exporter": "python",
   "pygments_lexer": "ipython3",
   "version": "3.11.9"
  },
  "orig_nbformat": 4
 },
 "nbformat": 4,
 "nbformat_minor": 2
}
